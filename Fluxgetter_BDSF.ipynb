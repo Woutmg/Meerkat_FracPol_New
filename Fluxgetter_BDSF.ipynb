{
 "cells": [
  {
   "cell_type": "code",
   "execution_count": 1,
   "metadata": {},
   "outputs": [],
   "source": [
    "import numpy as np\n",
    "\n",
    "import matplotlib.pyplot as plt\n",
    "import matplotlib.colors as colors\n",
    "\n",
    "import scipy.constants as c\n",
    "from scipy import stats\n",
    "\n",
    "from photutils.aperture import CircularAperture\n",
    "from photutils.detection import DAOStarFinder\n",
    "from photutils.aperture import aperture_photometry\n",
    "from photutils.aperture import CircularAnnulus\n",
    "\n",
    "from astropy.utils.data import get_pkg_data_filename\n",
    "from astropy.wcs import WCS\n",
    "from astropy import wcs\n",
    "from astropy.io import fits\n",
    "from astropy.stats import sigma_clipped_stats\n",
    "from astropy import units as u\n",
    "\n",
    "import os\n",
    "import sys\n",
    "from astropy.table import Table, join, vstack\n",
    "from astropy.nddata.utils import extract_array\n",
    "import pyregion\n",
    "import tqdm \n",
    "import argparse\n",
    "\n",
    "import integratedflux as flux\n",
    "from importlib import reload\n",
    "reload(flux)\n",
    "import warnings\n",
    "from astropy.utils.exceptions import AstropyWarning"
   ]
  },
  {
   "cell_type": "code",
   "execution_count": 38,
   "metadata": {},
   "outputs": [],
   "source": [
    "directory_univ_I = r'/net/vdesk/data2/GoesaertW/Meerkat_Data/Abell_85/I_slices/'\n",
    "# directory_univ_I + \n",
    "I_dir = r'/data2/goesaert/Abell_85_I_plane_freq1.fits'\n",
    "\n",
    "region_name = \"Abell85_catalog_BDSF_output_rmsbox.reg\"\n",
    "\n",
    "srl = fits.open(get_pkg_data_filename('Abell85_catalog_BDSF_rsl.fits'))[1].data"
   ]
  },
  {
   "cell_type": "code",
   "execution_count": 6,
   "metadata": {
    "scrolled": true
   },
   "outputs": [
    {
     "name": "stdout",
     "output_type": "stream",
     "text": [
      "Writing mask file to /data2/goesaert/testmask.fits\n"
     ]
    }
   ],
   "source": [
    "warnings.filterwarnings('ignore', category=AstropyWarning, append=True)\n",
    "mask = flux.mask_regions(I_dir, region_name,'/data2/goesaert/testmask.fits', maskoutside=False)"
   ]
  },
  {
   "cell_type": "code",
   "execution_count": 41,
   "metadata": {},
   "outputs": [
    {
     "name": "stdout",
     "output_type": "stream",
     "text": [
      "21\n"
     ]
    }
   ],
   "source": [
    "measurement = flux.integratedflux(I_dir, mask, srl, 0)\n",
    "\n",
    "#uncertainty = flux.uncertainty_flux(I_dir, measurement, beamnumb, rms=0.01*measurement, delta_cal=0.1)\n",
    "#print(measurement, beamnumb, uncertainty)"
   ]
  },
  {
   "cell_type": "code",
   "execution_count": null,
   "metadata": {},
   "outputs": [],
   "source": [
    "np.nansum(np.sqrt(np.array([1,2,np.NaN])))"
   ]
  }
 ],
 "metadata": {
  "kernelspec": {
   "display_name": "Python 3",
   "language": "python",
   "name": "python3"
  },
  "language_info": {
   "codemirror_mode": {
    "name": "ipython",
    "version": 3
   },
   "file_extension": ".py",
   "mimetype": "text/x-python",
   "name": "python",
   "nbconvert_exporter": "python",
   "pygments_lexer": "ipython3",
   "version": "3.10.3"
  }
 },
 "nbformat": 4,
 "nbformat_minor": 1
}
