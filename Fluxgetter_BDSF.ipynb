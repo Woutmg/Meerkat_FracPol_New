{
 "cells": [
  {
   "cell_type": "code",
   "execution_count": 1,
   "metadata": {},
   "outputs": [
    {
     "ename": "ModuleNotFoundError",
     "evalue": "No module named 'pyregion'",
     "output_type": "error",
     "traceback": [
      "\u001B[1;31m---------------------------------------------------------------------------\u001B[0m",
      "\u001B[1;31mModuleNotFoundError\u001B[0m                       Traceback (most recent call last)",
      "Input \u001B[1;32mIn [1]\u001B[0m, in \u001B[0;36m<module>\u001B[1;34m\u001B[0m\n\u001B[0;32m     23\u001B[0m \u001B[38;5;28;01mfrom\u001B[39;00m \u001B[38;5;21;01mastropy\u001B[39;00m\u001B[38;5;21;01m.\u001B[39;00m\u001B[38;5;21;01mtable\u001B[39;00m \u001B[38;5;28;01mimport\u001B[39;00m Table, join, vstack\n\u001B[0;32m     24\u001B[0m \u001B[38;5;28;01mfrom\u001B[39;00m \u001B[38;5;21;01mastropy\u001B[39;00m\u001B[38;5;21;01m.\u001B[39;00m\u001B[38;5;21;01mnddata\u001B[39;00m\u001B[38;5;21;01m.\u001B[39;00m\u001B[38;5;21;01mutils\u001B[39;00m \u001B[38;5;28;01mimport\u001B[39;00m extract_array\n\u001B[1;32m---> 25\u001B[0m \u001B[38;5;28;01mimport\u001B[39;00m \u001B[38;5;21;01mpyregion\u001B[39;00m\n\u001B[0;32m     26\u001B[0m \u001B[38;5;28;01mimport\u001B[39;00m \u001B[38;5;21;01mtqdm\u001B[39;00m \n\u001B[0;32m     27\u001B[0m \u001B[38;5;28;01mimport\u001B[39;00m \u001B[38;5;21;01margparse\u001B[39;00m\n",
      "\u001B[1;31mModuleNotFoundError\u001B[0m: No module named 'pyregion'"
     ]
    }
   ],
   "source": [
    "import numpy as np\n",
    "\n",
    "import matplotlib.pyplot as plt\n",
    "import matplotlib.colors as colors\n",
    "\n",
    "import scipy.constants as c\n",
    "from scipy import stats\n",
    "\n",
    "from photutils.aperture import CircularAperture\n",
    "from photutils.detection import DAOStarFinder\n",
    "from photutils.aperture import aperture_photometry\n",
    "from photutils.aperture import CircularAnnulus\n",
    "\n",
    "from astropy.utils.data import get_pkg_data_filename\n",
    "from astropy.wcs import WCS\n",
    "from astropy import wcs\n",
    "from astropy.io import fits\n",
    "from astropy.stats import sigma_clipped_stats\n",
    "from astropy import units as u\n",
    "\n",
    "import os\n",
    "import sys\n",
    "from astropy.table import Table, join, vstack\n",
    "from astropy.nddata.utils import extract_array\n",
    "import pyregion\n",
    "import tqdm \n",
    "import argparse\n",
    "\n",
    "import integratedflux as flux\n",
    "from importlib import reload\n",
    "reload(flux)\n",
    "import warnings\n",
    "from astropy.utils.exceptions import AstropyWarning"
   ]
  },
  {
   "cell_type": "code",
   "execution_count": 38,
   "metadata": {},
   "outputs": [],
   "source": [
    "directory_univ_I = r'/net/vdesk/data2/GoesaertW/Meerkat_Data/Abell_85/I_slices/'\n",
    "# directory_univ_I + \n",
    "I_dir = r'/data2/goesaert/Abell_85_I_plane_freq1.fits'\n",
    "\n",
    "region_name = \"Abell85_catalog_BDSF_output_rmsbox.reg\"\n",
    "\n",
    "srl = fits.open(get_pkg_data_filename('Abell85_catalog_BDSF_rsl.fits'))[1].data"
   ]
  },
  {
   "cell_type": "code",
   "execution_count": 6,
   "metadata": {
    "scrolled": true
   },
   "outputs": [
    {
     "name": "stdout",
     "output_type": "stream",
     "text": [
      "Writing mask file to /data2/goesaert/testmask.fits\n"
     ]
    }
   ],
   "source": [
    "warnings.filterwarnings('ignore', category=AstropyWarning, append=True)\n",
    "mask = flux.mask_regions(I_dir, region_name,'/data2/goesaert/testmask.fits', maskoutside=False)"
   ]
  },
  {
   "cell_type": "code",
   "execution_count": 41,
   "metadata": {},
   "outputs": [
    {
     "ename": "ValueError",
     "evalue": "When providing two arguments, the array must be of shape (N, 2)",
     "output_type": "error",
     "traceback": [
      "\u001B[0;31m---------------------------------------------------------------------------\u001B[0m",
      "\u001B[0;31mValueError\u001B[0m                                Traceback (most recent call last)",
      "\u001B[0;32m<ipython-input-41-52d0ac222117>\u001B[0m in \u001B[0;36m<module>\u001B[0;34m\u001B[0m\n\u001B[0;32m----> 1\u001B[0;31m \u001B[0mmeasurement\u001B[0m \u001B[0;34m=\u001B[0m \u001B[0mflux\u001B[0m\u001B[0;34m.\u001B[0m\u001B[0mintegratedflux\u001B[0m\u001B[0;34m(\u001B[0m\u001B[0mI_dir\u001B[0m\u001B[0;34m,\u001B[0m \u001B[0mmask\u001B[0m\u001B[0;34m,\u001B[0m \u001B[0msrl\u001B[0m\u001B[0;34m,\u001B[0m \u001B[0;36m0\u001B[0m\u001B[0;34m)\u001B[0m\u001B[0;34m\u001B[0m\u001B[0;34m\u001B[0m\u001B[0m\n\u001B[0m\u001B[1;32m      2\u001B[0m \u001B[0;34m\u001B[0m\u001B[0m\n\u001B[1;32m      3\u001B[0m \u001B[0;31m#uncertainty = flux.uncertainty_flux(I_dir, measurement, beamnumb, rms=0.01*measurement, delta_cal=0.1)\u001B[0m\u001B[0;34m\u001B[0m\u001B[0;34m\u001B[0m\u001B[0m\n\u001B[1;32m      4\u001B[0m \u001B[0;31m#print(measurement, beamnumb, uncertainty)\u001B[0m\u001B[0;34m\u001B[0m\u001B[0;34m\u001B[0m\u001B[0m\n",
      "\u001B[0;32m/net/vdesk/data2/GoesaertW/Data_Analyis_Git/integratedflux.py\u001B[0m in \u001B[0;36mintegratedflux\u001B[0;34m(fitsimage, maskarray, tdata, i, hdul)\u001B[0m\n\u001B[1;32m    297\u001B[0m \u001B[0;34m\u001B[0m\u001B[0m\n\u001B[1;32m    298\u001B[0m     \u001B[0;31m# Easier to give 2D data array to this function\u001B[0m\u001B[0;34m\u001B[0m\u001B[0;34m\u001B[0m\u001B[0m\n\u001B[0;32m--> 299\u001B[0;31m     \u001B[0msubdata\u001B[0m \u001B[0;34m=\u001B[0m \u001B[0mextr_array\u001B[0m\u001B[0;34m(\u001B[0m\u001B[0mmasked_data\u001B[0m\u001B[0;34m[\u001B[0m\u001B[0;36m0\u001B[0m\u001B[0;34m,\u001B[0m\u001B[0;36m0\u001B[0m\u001B[0;34m]\u001B[0m\u001B[0;34m,\u001B[0m \u001B[0mRA\u001B[0m\u001B[0;34m,\u001B[0m \u001B[0mDEC\u001B[0m\u001B[0;34m,\u001B[0m \u001B[0mhead\u001B[0m\u001B[0;34m,\u001B[0m \u001B[0mhdul\u001B[0m\u001B[0;34m,\u001B[0m \u001B[0ms\u001B[0m\u001B[0;34m)\u001B[0m\u001B[0;34m\u001B[0m\u001B[0;34m\u001B[0m\u001B[0m\n\u001B[0m\u001B[1;32m    300\u001B[0m \u001B[0;34m\u001B[0m\u001B[0m\n\u001B[1;32m    301\u001B[0m     \u001B[0;31m# The total flux of the source is then the sum of the pixels\u001B[0m\u001B[0;34m\u001B[0m\u001B[0;34m\u001B[0m\u001B[0m\n",
      "\u001B[0;32m/net/vdesk/data2/GoesaertW/Data_Analyis_Git/integratedflux.py\u001B[0m in \u001B[0;36mextr_array\u001B[0;34m(data, ra, dec, head, hdulist, s)\u001B[0m\n\u001B[1;32m    147\u001B[0m     \u001B[0;31m# The second argument is \"origin\" -- in this case we're declaring we\u001B[0m\u001B[0;34m\u001B[0m\u001B[0;34m\u001B[0m\u001B[0m\n\u001B[1;32m    148\u001B[0m     \u001B[0;31m# have 1-based (Fortran-like) coordinates.\u001B[0m\u001B[0;34m\u001B[0m\u001B[0;34m\u001B[0m\u001B[0m\n\u001B[0;32m--> 149\u001B[0;31m     \u001B[0mpixel\u001B[0m \u001B[0;34m=\u001B[0m \u001B[0mwcs1\u001B[0m\u001B[0;34m.\u001B[0m\u001B[0mall_world2pix\u001B[0m\u001B[0;34m(\u001B[0m\u001B[0mskycrd\u001B[0m\u001B[0;34m,\u001B[0m \u001B[0;36m1\u001B[0m\u001B[0;34m)\u001B[0m\u001B[0;34m\u001B[0m\u001B[0;34m\u001B[0m\u001B[0m\n\u001B[0m\u001B[1;32m    150\u001B[0m     \u001B[0;31m# Some pixel coordinates of interest.\u001B[0m\u001B[0;34m\u001B[0m\u001B[0;34m\u001B[0m\u001B[0m\n\u001B[1;32m    151\u001B[0m     \u001B[0mx\u001B[0m \u001B[0;34m=\u001B[0m \u001B[0mpixel\u001B[0m\u001B[0;34m\u001B[0m\u001B[0;34m\u001B[0m\u001B[0m\n",
      "\u001B[0;32m/usr/lib64/python3.10/site-packages/astropy/utils/decorators.py\u001B[0m in \u001B[0;36mwrapper\u001B[0;34m(*args, **kwargs)\u001B[0m\n\u001B[1;32m    534\u001B[0m                     \u001B[0mwarnings\u001B[0m\u001B[0;34m.\u001B[0m\u001B[0mwarn\u001B[0m\u001B[0;34m(\u001B[0m\u001B[0mmessage\u001B[0m\u001B[0;34m,\u001B[0m \u001B[0mwarning_type\u001B[0m\u001B[0;34m,\u001B[0m \u001B[0mstacklevel\u001B[0m\u001B[0;34m=\u001B[0m\u001B[0;36m2\u001B[0m\u001B[0;34m)\u001B[0m\u001B[0;34m\u001B[0m\u001B[0;34m\u001B[0m\u001B[0m\n\u001B[1;32m    535\u001B[0m \u001B[0;34m\u001B[0m\u001B[0m\n\u001B[0;32m--> 536\u001B[0;31m             \u001B[0;32mreturn\u001B[0m \u001B[0mfunction\u001B[0m\u001B[0;34m(\u001B[0m\u001B[0;34m*\u001B[0m\u001B[0margs\u001B[0m\u001B[0;34m,\u001B[0m \u001B[0;34m**\u001B[0m\u001B[0mkwargs\u001B[0m\u001B[0;34m)\u001B[0m\u001B[0;34m\u001B[0m\u001B[0;34m\u001B[0m\u001B[0m\n\u001B[0m\u001B[1;32m    537\u001B[0m \u001B[0;34m\u001B[0m\u001B[0m\n\u001B[1;32m    538\u001B[0m         \u001B[0;32mreturn\u001B[0m \u001B[0mwrapper\u001B[0m\u001B[0;34m\u001B[0m\u001B[0;34m\u001B[0m\u001B[0m\n",
      "\u001B[0;32m/usr/lib64/python3.10/site-packages/astropy/wcs/wcs.py\u001B[0m in \u001B[0;36mall_world2pix\u001B[0;34m(self, tolerance, maxiter, adaptive, detect_divergence, quiet, *args, **kwargs)\u001B[0m\n\u001B[1;32m   1886\u001B[0m             \u001B[0;32mraise\u001B[0m \u001B[0mValueError\u001B[0m\u001B[0;34m(\u001B[0m\u001B[0;34m\"No basic WCS settings were created.\"\u001B[0m\u001B[0;34m)\u001B[0m\u001B[0;34m\u001B[0m\u001B[0;34m\u001B[0m\u001B[0m\n\u001B[1;32m   1887\u001B[0m \u001B[0;34m\u001B[0m\u001B[0m\n\u001B[0;32m-> 1888\u001B[0;31m         return self._array_converter(\n\u001B[0m\u001B[1;32m   1889\u001B[0m             \u001B[0;32mlambda\u001B[0m \u001B[0;34m*\u001B[0m\u001B[0margs\u001B[0m\u001B[0;34m,\u001B[0m \u001B[0;34m**\u001B[0m\u001B[0mkwargs\u001B[0m\u001B[0;34m:\u001B[0m\u001B[0;34m\u001B[0m\u001B[0;34m\u001B[0m\u001B[0m\n\u001B[1;32m   1890\u001B[0m             self._all_world2pix(\n",
      "\u001B[0;32m/usr/lib64/python3.10/site-packages/astropy/wcs/wcs.py\u001B[0m in \u001B[0;36m_array_converter\u001B[0;34m(self, func, sky, ra_dec_order, *args)\u001B[0m\n\u001B[1;32m   1322\u001B[0m             \u001B[0;32mif\u001B[0m \u001B[0mxy\u001B[0m\u001B[0;34m.\u001B[0m\u001B[0mshape\u001B[0m \u001B[0;34m==\u001B[0m \u001B[0;34m(\u001B[0m\u001B[0;34m)\u001B[0m \u001B[0;32mor\u001B[0m \u001B[0mlen\u001B[0m\u001B[0;34m(\u001B[0m\u001B[0mxy\u001B[0m\u001B[0;34m.\u001B[0m\u001B[0mshape\u001B[0m\u001B[0;34m)\u001B[0m \u001B[0;34m==\u001B[0m \u001B[0;36m1\u001B[0m\u001B[0;34m:\u001B[0m\u001B[0;34m\u001B[0m\u001B[0;34m\u001B[0m\u001B[0m\n\u001B[1;32m   1323\u001B[0m                 \u001B[0;32mreturn\u001B[0m \u001B[0m_return_list_of_arrays\u001B[0m\u001B[0;34m(\u001B[0m\u001B[0;34m[\u001B[0m\u001B[0mxy\u001B[0m\u001B[0;34m]\u001B[0m\u001B[0;34m,\u001B[0m \u001B[0morigin\u001B[0m\u001B[0;34m)\u001B[0m\u001B[0;34m\u001B[0m\u001B[0;34m\u001B[0m\u001B[0m\n\u001B[0;32m-> 1324\u001B[0;31m             \u001B[0;32mreturn\u001B[0m \u001B[0m_return_single_array\u001B[0m\u001B[0;34m(\u001B[0m\u001B[0mxy\u001B[0m\u001B[0;34m,\u001B[0m \u001B[0morigin\u001B[0m\u001B[0;34m)\u001B[0m\u001B[0;34m\u001B[0m\u001B[0;34m\u001B[0m\u001B[0m\n\u001B[0m\u001B[1;32m   1325\u001B[0m \u001B[0;34m\u001B[0m\u001B[0m\n\u001B[1;32m   1326\u001B[0m         \u001B[0;32melif\u001B[0m \u001B[0mlen\u001B[0m\u001B[0;34m(\u001B[0m\u001B[0margs\u001B[0m\u001B[0;34m)\u001B[0m \u001B[0;34m==\u001B[0m \u001B[0mself\u001B[0m\u001B[0;34m.\u001B[0m\u001B[0mnaxis\u001B[0m \u001B[0;34m+\u001B[0m \u001B[0;36m1\u001B[0m\u001B[0;34m:\u001B[0m\u001B[0;34m\u001B[0m\u001B[0;34m\u001B[0m\u001B[0m\n",
      "\u001B[0;32m/usr/lib64/python3.10/site-packages/astropy/wcs/wcs.py\u001B[0m in \u001B[0;36m_return_single_array\u001B[0;34m(xy, origin)\u001B[0m\n\u001B[1;32m   1299\u001B[0m         \u001B[0;32mdef\u001B[0m \u001B[0m_return_single_array\u001B[0m\u001B[0;34m(\u001B[0m\u001B[0mxy\u001B[0m\u001B[0;34m,\u001B[0m \u001B[0morigin\u001B[0m\u001B[0;34m)\u001B[0m\u001B[0;34m:\u001B[0m\u001B[0;34m\u001B[0m\u001B[0;34m\u001B[0m\u001B[0m\n\u001B[1;32m   1300\u001B[0m             \u001B[0;32mif\u001B[0m \u001B[0mxy\u001B[0m\u001B[0;34m.\u001B[0m\u001B[0mshape\u001B[0m\u001B[0;34m[\u001B[0m\u001B[0;34m-\u001B[0m\u001B[0;36m1\u001B[0m\u001B[0;34m]\u001B[0m \u001B[0;34m!=\u001B[0m \u001B[0mself\u001B[0m\u001B[0;34m.\u001B[0m\u001B[0mnaxis\u001B[0m\u001B[0;34m:\u001B[0m\u001B[0;34m\u001B[0m\u001B[0;34m\u001B[0m\u001B[0m\n\u001B[0;32m-> 1301\u001B[0;31m                 raise ValueError(\n\u001B[0m\u001B[1;32m   1302\u001B[0m                     \u001B[0;34m\"When providing two arguments, the array must be \"\u001B[0m\u001B[0;34m\u001B[0m\u001B[0;34m\u001B[0m\u001B[0m\n\u001B[1;32m   1303\u001B[0m                     \"of shape (N, {})\".format(self.naxis))\n",
      "\u001B[0;31mValueError\u001B[0m: When providing two arguments, the array must be of shape (N, 2)"
     ]
    }
   ],
   "source": [
    "measurement = flux.integratedflux(I_dir, mask, srl, 0)\n",
    "\n",
    "#uncertainty = flux.uncertainty_flux(I_dir, measurement, beamnumb, rms=0.01*measurement, delta_cal=0.1)\n",
    "#print(measurement, beamnumb, uncertainty)"
   ]
  },
  {
   "cell_type": "code",
   "execution_count": null,
   "metadata": {},
   "outputs": [],
   "source": [
    "np.nansum(np.sqrt(np.array([1,2,np.NaN])))"
   ]
  }
 ],
 "metadata": {
  "kernelspec": {
   "display_name": "Python 3",
   "language": "python",
   "name": "python3"
  },
  "language_info": {
   "codemirror_mode": {
    "name": "ipython",
    "version": 3
   },
   "file_extension": ".py",
   "mimetype": "text/x-python",
   "name": "python",
   "nbconvert_exporter": "python",
   "pygments_lexer": "ipython3",
   "version": "3.10.3"
  }
 },
 "nbformat": 4,
 "nbformat_minor": 1
}