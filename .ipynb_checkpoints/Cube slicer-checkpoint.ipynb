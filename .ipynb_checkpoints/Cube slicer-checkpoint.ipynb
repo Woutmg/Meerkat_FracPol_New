{
 "cells": [
  {
   "cell_type": "code",
   "execution_count": 15,
   "metadata": {},
   "outputs": [],
   "source": [
    "import numpy as np\n",
    "\n",
    "from astropy.utils.data import get_pkg_data_filename\n",
    "from astropy.wcs import WCS\n",
    "from astropy import wcs\n",
    "from astropy.io import fits\n",
    "from astropy.stats import sigma_clipped_stats\n",
    "from astropy import units as u\n",
    "\n",
    "import os\n",
    "import sys\n",
    "from tqdm import tqdm\n",
    "from astropy.table import Table, join, vstack\n",
    "from astropy.nddata.utils import extract_array"
   ]
  },
  {
   "cell_type": "code",
   "execution_count": 25,
   "metadata": {},
   "outputs": [
    {
     "name": "stderr",
     "output_type": "stream",
     "text": [
      "100%|██████████| 12/12 [01:57<00:00,  9.79s/it]\n",
      "100%|██████████| 12/12 [02:27<00:00, 12.32s/it]\n",
      "100%|██████████| 12/12 [02:50<00:00, 14.17s/it]\n",
      "100%|██████████| 12/12 [02:44<00:00, 13.73s/it]\n"
     ]
    }
   ],
   "source": [
    "directory_univ = r'/net/vdesk/data2/GoesaertW/Meerkat_Data/Abell_85/'\n",
    "fnames = [r'Abell_85_aFix_pol_I_Farcsec_fcube_cor.fits', r'Abell_85_aFix_pol_Q_Farcsec_fcube_cor.fits', r'Abell_85_aFix_pol_U_Farcsec_fcube_cor.fits', r'Abell_85_aFix_pol_V_Farcsec_fcube_cor.fits']\n",
    "stokes_name = ['I', 'Q', 'U', 'V']\n",
    "\n",
    "for n, fname in enumerate(fnames):\n",
    "    hdu_cube = fits.open(get_pkg_data_filename(directory_univ+fname))\n",
    "    cube = hdu_cube[0].data.squeeze() # drops the size-1 axes\n",
    "    hdu_cube.close()\n",
    "    \n",
    "    for i in tqdm(range(12)):\n",
    "        plane = np.zeros((3617,3617,1,1))\n",
    "        plane[:,:,0,0] = cube[i]\n",
    "        hdu_plane = fits.PrimaryHDU(plane)\n",
    "        hdu_plane.header['SIMPLE'] = hdu_cube[0].header['EXTEND']\n",
    "        hdu_plane.header['BITPIX'] = -32\n",
    "        hdu_plane.header['NAXIS'] = 4\n",
    "        hdu_plane.header['NAXIS1'] = 3617\n",
    "        hdu_plane.header['NAXIS2'] = 3617\n",
    "        hdu_plane.header['NAXIS3'] = 1\n",
    "        hdu_plane.header['NAXIS4'] = 1\n",
    "        \n",
    "        hdu_plane.header['CTYPE1'] = 'RA---SIN'\n",
    "        hdu_plane.header['CDELT1'] = -3.317774E-04\n",
    "        hdu_plane.header['CRPIX1'] = 1.809000E+03\n",
    "        hdu_plane.header['CROTA1'] = 0.000000E+00\n",
    "        hdu_plane.header['CRVAL1'] = 10.45282638889222\n",
    "        hdu_plane.header['CUNIT1'] = 'deg'\n",
    "        \n",
    "        hdu_plane.header['CTYPE2'] = 'DEC--SIN'\n",
    "        hdu_plane.header['CDELT2'] = 3.317774E-04\n",
    "        hdu_plane.header['CRPIX2'] = 1.809000E+03\n",
    "        hdu_plane.header['CROTA2'] = 0.000000E+00\n",
    "        hdu_plane.header['CRVAL2'] = -9.317925555555556\n",
    "        hdu_plane.header['CUNIT1'] = 'deg'\n",
    "        \n",
    "        hdu_plane.header['CTYPE3'] = 'FREQ'\n",
    "        hdu_plane.header['CDELT3'] = hdu_cube[0].header['FREH00'+(2-len(str((i+1))))*'0' + str(i+1)]\\\n",
    "                                    -hdu_cube[0].header['FREL00'+(2-len(str((i+1))))*'0' + str(i+1)]\n",
    "        hdu_plane.header['CRPIX3'] = 1\n",
    "        hdu_plane.header['CROTA3'] = 0.0\n",
    "        hdu_plane.header['CRVAL3'] = hdu_cube[0].header['FREQ00'+(2-len(str((i+1))))*'0' + str(i+1)]\n",
    "\n",
    "        hdu_plane.header['CTYPE4'] = 'STOKES'\n",
    "        hdu_plane.header['CDELT4'] = 1.0\n",
    "        hdu_plane.header['CRPIX4'] = 1.0\n",
    "        hdu_plane.header['CROTA4'] = 0.0\n",
    "        hdu_plane.header['CRVAL4'] = n+1\n",
    "        \n",
    "        hdu_plane.header['OBSRA'] = 1.045291666667E+01\n",
    "        hdu_plane.header['OBSDEC'] = -9.318000000000E+00\n",
    "        hdu_plane.header['OBJECT'] = 'A85'\n",
    "        hdu_plane.header['TELESCOP'] = 'MeerKAT'\n",
    "        hdu_plane.header['INSTRUME'] = 'MeerKAT'\n",
    "        hdu_plane.header['OBSERVER'] = 'Sharmila'\n",
    "        hdu_plane.header['DATE-OBS'] = '2018-09-25'\n",
    "        hdu_plane.header['DATE-MAP'] = '2020-08-15'\n",
    "        hdu_plane.header['ORIGIN'] = 'Obit'\n",
    "        hdu_plane.header['EPOCH'] = 2.000000E+03\n",
    "        hdu_plane.header['EQUINOX'] = 2000.0\n",
    "        hdu_plane.header['DATAMAX'] = 2.99980617E+00\n",
    "        hdu_plane.header['DATAMIN'] = -2.99998784E+00\n",
    "        hdu_plane.header['BUNIT'] = 'JY/BEAM'\n",
    "        hdu_plane.header['ALTRPIX'] = 1.000000E+00\n",
    "        hdu_plane.header['CLEANBMJ'] = 2.140992E-03\n",
    "        hdu_plane.header['CLEANBMN'] = 1.972343E-03\n",
    "        hdu_plane.header['CLEANBPA'] = -8.240263E+00\n",
    "        hdu_plane.header['CLEANNIT'] = 251644  \n",
    "        hdu_plane.header['ALPHA'] = 0.000000000000E+00\n",
    "        hdu_plane.header['RFALPHA'] = 1.283791015625E+09\n",
    "        hdu_plane.header['RADESYS'] = 'FK5'\n",
    "        hdu_plane.header['BMAJ'] = 0.002140992\n",
    "        hdu_plane.header['BMIN'] = 0.001972343\n",
    "        hdu_plane.header['BPA'] = -8.240263000000001  \n",
    "\n",
    "        hdu_plane.writeto(directory_univ+stokes_name[n]+'_slices/Abell_85_'+stokes_name[n]+'_plane_freq'+(2-len(str((i+1))))*'0' + str(i+1)+'.fits', overwrite=True)"
   ]
  },
  {
   "cell_type": "code",
   "execution_count": 19,
   "metadata": {},
   "outputs": [],
   "source": [
    "import pyfits\n",
    "test = pyfits.getdata('/net/vdesk/data2/GoesaertW/Meerkat_Data/Abell_85/Q_slices/Abell_85_Q_plane_freq03.fits')\n",
    "test2 = pyfits.getdata('/net/voorrijn/data2/osinga/pipeline/cubes/19906/G080.99-50.90/stokes_q/G080.99-50.90_0000-Q-image.pbcor.smoothed.fits')"
   ]
  },
  {
   "cell_type": "code",
   "execution_count": 20,
   "metadata": {},
   "outputs": [
    {
     "name": "stdout",
     "output_type": "stream",
     "text": [
      "(1, 1, 2736, 2736)\n"
     ]
    },
    {
     "ename": "TypeError",
     "evalue": "Invalid shape (1, 1, 2736, 2736) for image data",
     "output_type": "error",
     "traceback": [
      "\u001b[0;31m---------------------------------------------------------------------------\u001b[0m",
      "\u001b[0;31mTypeError\u001b[0m                                 Traceback (most recent call last)",
      "\u001b[0;32m<ipython-input-20-ad4955daa887>\u001b[0m in \u001b[0;36m<module>\u001b[0;34m\u001b[0m\n\u001b[1;32m      2\u001b[0m \u001b[0;34m\u001b[0m\u001b[0m\n\u001b[1;32m      3\u001b[0m \u001b[0mprint\u001b[0m\u001b[0;34m(\u001b[0m\u001b[0mnp\u001b[0m\u001b[0;34m.\u001b[0m\u001b[0mshape\u001b[0m\u001b[0;34m(\u001b[0m\u001b[0mtest2\u001b[0m\u001b[0;34m)\u001b[0m\u001b[0;34m)\u001b[0m\u001b[0;34m\u001b[0m\u001b[0;34m\u001b[0m\u001b[0m\n\u001b[0;32m----> 4\u001b[0;31m \u001b[0mplt\u001b[0m\u001b[0;34m.\u001b[0m\u001b[0mimshow\u001b[0m\u001b[0;34m(\u001b[0m\u001b[0mtest2\u001b[0m\u001b[0;34m)\u001b[0m\u001b[0;34m\u001b[0m\u001b[0;34m\u001b[0m\u001b[0m\n\u001b[0m\u001b[1;32m      5\u001b[0m \u001b[0mplt\u001b[0m\u001b[0;34m.\u001b[0m\u001b[0mshow\u001b[0m\u001b[0;34m(\u001b[0m\u001b[0;34m)\u001b[0m\u001b[0;34m\u001b[0m\u001b[0;34m\u001b[0m\u001b[0m\n",
      "\u001b[0;32m/usr/lib64/python3.10/site-packages/matplotlib/_api/deprecation.py\u001b[0m in \u001b[0;36mwrapper\u001b[0;34m(*args, **kwargs)\u001b[0m\n\u001b[1;32m    454\u001b[0m                 \u001b[0;34m\"parameter will become keyword-only %(removal)s.\"\u001b[0m\u001b[0;34m,\u001b[0m\u001b[0;34m\u001b[0m\u001b[0;34m\u001b[0m\u001b[0m\n\u001b[1;32m    455\u001b[0m                 name=name, obj_type=f\"parameter of {func.__name__}()\")\n\u001b[0;32m--> 456\u001b[0;31m         \u001b[0;32mreturn\u001b[0m \u001b[0mfunc\u001b[0m\u001b[0;34m(\u001b[0m\u001b[0;34m*\u001b[0m\u001b[0margs\u001b[0m\u001b[0;34m,\u001b[0m \u001b[0;34m**\u001b[0m\u001b[0mkwargs\u001b[0m\u001b[0;34m)\u001b[0m\u001b[0;34m\u001b[0m\u001b[0;34m\u001b[0m\u001b[0m\n\u001b[0m\u001b[1;32m    457\u001b[0m \u001b[0;34m\u001b[0m\u001b[0m\n\u001b[1;32m    458\u001b[0m     \u001b[0;31m# Don't modify *func*'s signature, as boilerplate.py needs it.\u001b[0m\u001b[0;34m\u001b[0m\u001b[0;34m\u001b[0m\u001b[0m\n",
      "\u001b[0;32m/usr/lib64/python3.10/site-packages/matplotlib/pyplot.py\u001b[0m in \u001b[0;36mimshow\u001b[0;34m(X, cmap, norm, aspect, interpolation, alpha, vmin, vmax, origin, extent, interpolation_stage, filternorm, filterrad, resample, url, data, **kwargs)\u001b[0m\n\u001b[1;32m   2638\u001b[0m         \u001b[0minterpolation_stage\u001b[0m\u001b[0;34m=\u001b[0m\u001b[0;32mNone\u001b[0m\u001b[0;34m,\u001b[0m \u001b[0mfilternorm\u001b[0m\u001b[0;34m=\u001b[0m\u001b[0;32mTrue\u001b[0m\u001b[0;34m,\u001b[0m \u001b[0mfilterrad\u001b[0m\u001b[0;34m=\u001b[0m\u001b[0;36m4.0\u001b[0m\u001b[0;34m,\u001b[0m\u001b[0;34m\u001b[0m\u001b[0;34m\u001b[0m\u001b[0m\n\u001b[1;32m   2639\u001b[0m         resample=None, url=None, data=None, **kwargs):\n\u001b[0;32m-> 2640\u001b[0;31m     __ret = gca().imshow(\n\u001b[0m\u001b[1;32m   2641\u001b[0m         \u001b[0mX\u001b[0m\u001b[0;34m,\u001b[0m \u001b[0mcmap\u001b[0m\u001b[0;34m=\u001b[0m\u001b[0mcmap\u001b[0m\u001b[0;34m,\u001b[0m \u001b[0mnorm\u001b[0m\u001b[0;34m=\u001b[0m\u001b[0mnorm\u001b[0m\u001b[0;34m,\u001b[0m \u001b[0maspect\u001b[0m\u001b[0;34m=\u001b[0m\u001b[0maspect\u001b[0m\u001b[0;34m,\u001b[0m\u001b[0;34m\u001b[0m\u001b[0;34m\u001b[0m\u001b[0m\n\u001b[1;32m   2642\u001b[0m         \u001b[0minterpolation\u001b[0m\u001b[0;34m=\u001b[0m\u001b[0minterpolation\u001b[0m\u001b[0;34m,\u001b[0m \u001b[0malpha\u001b[0m\u001b[0;34m=\u001b[0m\u001b[0malpha\u001b[0m\u001b[0;34m,\u001b[0m \u001b[0mvmin\u001b[0m\u001b[0;34m=\u001b[0m\u001b[0mvmin\u001b[0m\u001b[0;34m,\u001b[0m\u001b[0;34m\u001b[0m\u001b[0;34m\u001b[0m\u001b[0m\n",
      "\u001b[0;32m/usr/lib64/python3.10/site-packages/matplotlib/_api/deprecation.py\u001b[0m in \u001b[0;36mwrapper\u001b[0;34m(*args, **kwargs)\u001b[0m\n\u001b[1;32m    454\u001b[0m                 \u001b[0;34m\"parameter will become keyword-only %(removal)s.\"\u001b[0m\u001b[0;34m,\u001b[0m\u001b[0;34m\u001b[0m\u001b[0;34m\u001b[0m\u001b[0m\n\u001b[1;32m    455\u001b[0m                 name=name, obj_type=f\"parameter of {func.__name__}()\")\n\u001b[0;32m--> 456\u001b[0;31m         \u001b[0;32mreturn\u001b[0m \u001b[0mfunc\u001b[0m\u001b[0;34m(\u001b[0m\u001b[0;34m*\u001b[0m\u001b[0margs\u001b[0m\u001b[0;34m,\u001b[0m \u001b[0;34m**\u001b[0m\u001b[0mkwargs\u001b[0m\u001b[0;34m)\u001b[0m\u001b[0;34m\u001b[0m\u001b[0;34m\u001b[0m\u001b[0m\n\u001b[0m\u001b[1;32m    457\u001b[0m \u001b[0;34m\u001b[0m\u001b[0m\n\u001b[1;32m    458\u001b[0m     \u001b[0;31m# Don't modify *func*'s signature, as boilerplate.py needs it.\u001b[0m\u001b[0;34m\u001b[0m\u001b[0;34m\u001b[0m\u001b[0m\n",
      "\u001b[0;32m/usr/lib64/python3.10/site-packages/matplotlib/__init__.py\u001b[0m in \u001b[0;36minner\u001b[0;34m(ax, data, *args, **kwargs)\u001b[0m\n\u001b[1;32m   1413\u001b[0m     \u001b[0;32mdef\u001b[0m \u001b[0minner\u001b[0m\u001b[0;34m(\u001b[0m\u001b[0max\u001b[0m\u001b[0;34m,\u001b[0m \u001b[0;34m*\u001b[0m\u001b[0margs\u001b[0m\u001b[0;34m,\u001b[0m \u001b[0mdata\u001b[0m\u001b[0;34m=\u001b[0m\u001b[0;32mNone\u001b[0m\u001b[0;34m,\u001b[0m \u001b[0;34m**\u001b[0m\u001b[0mkwargs\u001b[0m\u001b[0;34m)\u001b[0m\u001b[0;34m:\u001b[0m\u001b[0;34m\u001b[0m\u001b[0;34m\u001b[0m\u001b[0m\n\u001b[1;32m   1414\u001b[0m         \u001b[0;32mif\u001b[0m \u001b[0mdata\u001b[0m \u001b[0;32mis\u001b[0m \u001b[0;32mNone\u001b[0m\u001b[0;34m:\u001b[0m\u001b[0;34m\u001b[0m\u001b[0;34m\u001b[0m\u001b[0m\n\u001b[0;32m-> 1415\u001b[0;31m             \u001b[0;32mreturn\u001b[0m \u001b[0mfunc\u001b[0m\u001b[0;34m(\u001b[0m\u001b[0max\u001b[0m\u001b[0;34m,\u001b[0m \u001b[0;34m*\u001b[0m\u001b[0mmap\u001b[0m\u001b[0;34m(\u001b[0m\u001b[0msanitize_sequence\u001b[0m\u001b[0;34m,\u001b[0m \u001b[0margs\u001b[0m\u001b[0;34m)\u001b[0m\u001b[0;34m,\u001b[0m \u001b[0;34m**\u001b[0m\u001b[0mkwargs\u001b[0m\u001b[0;34m)\u001b[0m\u001b[0;34m\u001b[0m\u001b[0;34m\u001b[0m\u001b[0m\n\u001b[0m\u001b[1;32m   1416\u001b[0m \u001b[0;34m\u001b[0m\u001b[0m\n\u001b[1;32m   1417\u001b[0m         \u001b[0mbound\u001b[0m \u001b[0;34m=\u001b[0m \u001b[0mnew_sig\u001b[0m\u001b[0;34m.\u001b[0m\u001b[0mbind\u001b[0m\u001b[0;34m(\u001b[0m\u001b[0max\u001b[0m\u001b[0;34m,\u001b[0m \u001b[0;34m*\u001b[0m\u001b[0margs\u001b[0m\u001b[0;34m,\u001b[0m \u001b[0;34m**\u001b[0m\u001b[0mkwargs\u001b[0m\u001b[0;34m)\u001b[0m\u001b[0;34m\u001b[0m\u001b[0;34m\u001b[0m\u001b[0m\n",
      "\u001b[0;32m/usr/lib64/python3.10/site-packages/matplotlib/axes/_axes.py\u001b[0m in \u001b[0;36mimshow\u001b[0;34m(self, X, cmap, norm, aspect, interpolation, alpha, vmin, vmax, origin, extent, interpolation_stage, filternorm, filterrad, resample, url, **kwargs)\u001b[0m\n\u001b[1;32m   5486\u001b[0m                               **kwargs)\n\u001b[1;32m   5487\u001b[0m \u001b[0;34m\u001b[0m\u001b[0m\n\u001b[0;32m-> 5488\u001b[0;31m         \u001b[0mim\u001b[0m\u001b[0;34m.\u001b[0m\u001b[0mset_data\u001b[0m\u001b[0;34m(\u001b[0m\u001b[0mX\u001b[0m\u001b[0;34m)\u001b[0m\u001b[0;34m\u001b[0m\u001b[0;34m\u001b[0m\u001b[0m\n\u001b[0m\u001b[1;32m   5489\u001b[0m         \u001b[0mim\u001b[0m\u001b[0;34m.\u001b[0m\u001b[0mset_alpha\u001b[0m\u001b[0;34m(\u001b[0m\u001b[0malpha\u001b[0m\u001b[0;34m)\u001b[0m\u001b[0;34m\u001b[0m\u001b[0;34m\u001b[0m\u001b[0m\n\u001b[1;32m   5490\u001b[0m         \u001b[0;32mif\u001b[0m \u001b[0mim\u001b[0m\u001b[0;34m.\u001b[0m\u001b[0mget_clip_path\u001b[0m\u001b[0;34m(\u001b[0m\u001b[0;34m)\u001b[0m \u001b[0;32mis\u001b[0m \u001b[0;32mNone\u001b[0m\u001b[0;34m:\u001b[0m\u001b[0;34m\u001b[0m\u001b[0;34m\u001b[0m\u001b[0m\n",
      "\u001b[0;32m/usr/lib64/python3.10/site-packages/matplotlib/image.py\u001b[0m in \u001b[0;36mset_data\u001b[0;34m(self, A)\u001b[0m\n\u001b[1;32m    713\u001b[0m         if not (self._A.ndim == 2\n\u001b[1;32m    714\u001b[0m                 or self._A.ndim == 3 and self._A.shape[-1] in [3, 4]):\n\u001b[0;32m--> 715\u001b[0;31m             raise TypeError(\"Invalid shape {} for image data\"\n\u001b[0m\u001b[1;32m    716\u001b[0m                             .format(self._A.shape))\n\u001b[1;32m    717\u001b[0m \u001b[0;34m\u001b[0m\u001b[0m\n",
      "\u001b[0;31mTypeError\u001b[0m: Invalid shape (1, 1, 2736, 2736) for image data"
     ]
    },
    {
     "data": {
      "image/png": "[encoded data removed]",
      "text/plain": [
       "<Figure size 432x288 with 1 Axes>"
      ]
     },
     "metadata": {
      "needs_background": "light"
     },
     "output_type": "display_data"
    }
   ],
   "source": [
    "import matplotlib.pyplot as plt\n",
    "\n",
    "print(np.shape(test2))\n",
    "plt.imshow(test2)\n",
    "plt.show()"
   ]
  },
  {
   "cell_type": "code",
   "execution_count": null,
   "metadata": {},
   "outputs": [],
   "source": []
  }
 ],
 "metadata": {
  "kernelspec": {
   "display_name": "Python 3",
   "language": "python",
   "name": "python3"
  },
  "language_info": {
   "codemirror_mode": {
    "name": "ipython",
    "version": 3
   },
   "file_extension": ".py",
   "mimetype": "text/x-python",
   "name": "python",
   "nbconvert_exporter": "python",
   "pygments_lexer": "ipython3",
   "version": "3.10.4"
  }
 },
 "nbformat": 4,
 "nbformat_minor": 4
}
