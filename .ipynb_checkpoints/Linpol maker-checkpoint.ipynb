{
 "cells": [
  {
   "cell_type": "code",
   "execution_count": 1,
   "metadata": {
    "collapsed": true
   },
   "outputs": [],
   "source": [
    "import numpy as np\n",
    "\n",
    "from astropy.utils.data import get_pkg_data_filename\n",
    "from astropy.io import fits\n",
    "\n",
    "# This code takes the Q and U VLA data cubes and constructs a frequency averaged linear polarization intensity plane\n",
    "# This plane can then be used to check whether photometry is done with the right apertures."
   ]
  },
  {
   "cell_type": "code",
   "execution_count": 3,
   "metadata": {
    "pycharm": {
     "name": "#%%\n"
    }
   },
   "outputs": [
    {
     "name": "stderr",
     "output_type": "stream",
     "text": [
      "C:\\Users\\woutg\\AppData\\Local\\Temp\\ipykernel_22492\\1720829582.py:20: RuntimeWarning: Mean of empty slice\n",
      "  linpol_intens_freqmean = np.nanmean(linpol_intens_cube, axis=0)\n"
     ]
    }
   ],
   "source": [
    "# We initiate a cube to be filled\n",
    "linpol_intens_cube = np.zeros((90, 2736,2736))\n",
    "\n",
    "# File location is specified\n",
    "directory = r'C:\\Users\\woutg\\OneDrive - Universiteit Leiden\\Universiteit Leiden\\Bachelor 3\\BRP\\VLA_Data'\n",
    "fname_pt2 = r'-image.pbcor.smoothed.fits'\n",
    "\n",
    "for n in range(90):\n",
    "    fname_pt1 = r'G115.16-72.09_'+(4-len(str(n)))*'0'+str(n)\n",
    "\n",
    "    # The Q and U planes are opened one by one. These are corrected images by Erik.\n",
    "    Q_hdu = fits.open(get_pkg_data_filename(directory+ '\\stokes_q\\\\' + fname_pt1+r'-Q'+fname_pt2))\n",
    "    Q_plane = Q_hdu[0].data.squeeze() # drops the size-1 axes\n",
    "\n",
    "    U_hdu = fits.open(get_pkg_data_filename(directory+ '\\stokes_u\\\\' + fname_pt1+r'-U'+fname_pt2))\n",
    "    U_plane = U_hdu[0].data.squeeze() # drops the size-1 axes\n",
    "\n",
    "    # Each two planes together make a lin pol intensity plane and this plane is then put into the cube.\n",
    "    linpol_intens_plane = np.sqrt(Q_plane**2+U_plane**2)\n",
    "    linpol_intens_cube[n] = linpol_intens_plane\n",
    "\n",
    "    Q_hdu.close()\n",
    "    U_hdu.close()\n",
    "\n",
    "# The datacube is averaged over the frequency axis:\n",
    "linpol_intens_freqmean = np.nanmean(linpol_intens_cube, axis=0)\n",
    "\n",
    "# We save this as a fits file:\n",
    "Linpol_hdu = fits.PrimaryHDU(linpol_intens_freqmean)\n",
    "Linpol_hdu.writeto(directory + r'\\Abell_85_VLA_Linpol_Freqmean.fits', overwrite=True)"
   ]
  }
 ],
 "metadata": {
  "kernelspec": {
   "display_name": "Python 3",
   "language": "python",
   "name": "python3"
  },
  "language_info": {
   "codemirror_mode": {
    "name": "ipython",
    "version": 3
   },
   "file_extension": ".py",
   "mimetype": "text/x-python",
   "name": "python",
   "nbconvert_exporter": "python",
   "pygments_lexer": "ipython3",
   "version": "3.10.2"
  }
 },
 "nbformat": 4,
 "nbformat_minor": 1
}
