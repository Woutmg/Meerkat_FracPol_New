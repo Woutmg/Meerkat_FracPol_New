{
 "cells": [
  {
   "cell_type": "code",
   "execution_count": 29,
   "metadata": {},
   "outputs": [],
   "source": [
    "import numpy as np\n",
    "\n",
    "import matplotlib.pyplot as plt\n",
    "import matplotlib.colors as colors\n",
    "\n",
    "import scipy.constants as c\n",
    "from scipy import stats\n",
    "\n",
    "from photutils.aperture import CircularAperture\n",
    "from photutils.detection import DAOStarFinder\n",
    "from photutils.aperture import aperture_photometry\n",
    "from photutils.aperture import CircularAnnulus\n",
    "\n",
    "from astropy.utils.data import get_pkg_data_filename\n",
    "from astropy.wcs import WCS\n",
    "from astropy import wcs\n",
    "from astropy.io import fits\n",
    "from astropy.stats import sigma_clipped_stats\n",
    "from astropy import units as u\n",
    "\n",
    "import os\n",
    "import sys\n",
    "from astropy.table import Table, join, vstack\n",
    "from astropy.nddata.utils import extract_array\n",
    "import pyregion\n",
    "import tqdm \n",
    "import argparse\n",
    "\n",
    "import integratedflux as flux\n",
    "import integratedflux_py3 as flux_py3\n",
    "\n",
    "from importlib import reload\n",
    "reload(flux)\n",
    "import warnings\n",
    "from astropy.utils.exceptions import AstropyWarning\n",
    "\n",
    "import time\n",
    "from regions import Regions\n",
    "\n",
    "warnings.filterwarnings('ignore', category=AstropyWarning, append=True)"
   ]
  },
  {
   "cell_type": "code",
   "execution_count": 35,
   "metadata": {},
   "outputs": [],
   "source": [
    "directory_univ_I = r'/net/vdesk/data2/GoesaertW/Meerkat_Data/Abell_85/I_slices/'\n",
    "directory_univ_Q = r'/net/vdesk/data2/GoesaertW/Meerkat_Data/Abell_85/Q_slices/'\n",
    "directory_univ_U = r'/net/vdesk/data2/GoesaertW/Meerkat_Data/Abell_85/U_slices/'\n",
    "\n",
    "directory_local = r'/data2/goesaert/' \n",
    "\n",
    "region_name = \"Abell85_catalog_BDSF_rsl.reg\"\n",
    "\n",
    "rsl = fits.open(get_pkg_data_filename(directory_local+'Abell85_catalog_BDSF_rsl.fits'))[1].data"
   ]
  },
  {
   "cell_type": "code",
   "execution_count": 54,
   "metadata": {},
   "outputs": [
    {
     "name": "stdout",
     "output_type": "stream",
     "text": [
      "WCS Keywords\n",
      "\n",
      "Number of WCS axes: 2\n",
      "CTYPE : 'RA---SIN'  'DEC--SIN'  \n",
      "CRVAL : 10.452826388892  -9.3179255555556  \n",
      "CRPIX : 1809.0  1809.0  \n",
      "PC1_1 PC1_2  : 1.0  0.0  \n",
      "PC2_1 PC2_2  : 0.0  1.0  \n",
      "CDELT : -0.0003317774  0.0003317774  \n",
      "NAXIS : 3617  3617\n"
     ]
    }
   ],
   "source": [
    "hdul_image = fits.open('/net/vdesk/data2/GoesaertW/Meerkat_Data/Abell_85/I_slices/Abell_85_I_plane_freq01.fits')\n",
    "hdul_flat = flux_py3.flatten(hdul_image)\n",
    "\n",
    "head = hdul_flat.header\n",
    "data = hdul_flat.data \n",
    "w  = wcs.WCS(head)\n",
    "\n",
    "reg_file = Regions.read(region_name)\n"
   ]
  },
  {
   "cell_type": "code",
   "execution_count": null,
   "metadata": {},
   "outputs": [],
   "source": []
  },
  {
   "cell_type": "code",
   "execution_count": null,
   "metadata": {},
   "outputs": [],
   "source": [
    "warnings.filterwarnings('ignore', category=AstropyWarning, append=True)\n",
    "\n",
    "flux, nbeams = integratedflux(fitsimage, ds9region, i, hdul=None, test=False)\n",
    "mask = flux_3.mask_regions(directory_local+'Abell_85_I_plane_freq1.fits', region_name,'/data2/goesaert/testmask.fits', maskoutside=False)"
   ]
  },
  {
   "cell_type": "code",
   "execution_count": 56,
   "metadata": {},
   "outputs": [
    {
     "name": "stderr",
     "output_type": "stream",
     "text": [
      "  0%|          | 0/1 [00:00<?, ?it/s]\n"
     ]
    },
    {
     "ename": "TypeError",
     "evalue": "'PrimaryHDU' object is not subscriptable",
     "output_type": "error",
     "traceback": [
      "\u001b[0;31m---------------------------------------------------------------------------\u001b[0m",
      "\u001b[0;31mTypeError\u001b[0m                                 Traceback (most recent call last)",
      "\u001b[0;32m<ipython-input-56-90ce1cb32cd0>\u001b[0m in \u001b[0;36m<module>\u001b[0;34m\u001b[0m\n\u001b[1;32m      9\u001b[0m     \u001b[0mhdul_flat\u001b[0m \u001b[0;34m=\u001b[0m \u001b[0mflux_py3\u001b[0m\u001b[0;34m.\u001b[0m\u001b[0mflatten\u001b[0m\u001b[0;34m(\u001b[0m\u001b[0mhdul_image\u001b[0m\u001b[0;34m)\u001b[0m\u001b[0;34m\u001b[0m\u001b[0;34m\u001b[0m\u001b[0m\n\u001b[1;32m     10\u001b[0m     \u001b[0;32mfor\u001b[0m \u001b[0mn\u001b[0m \u001b[0;32min\u001b[0m \u001b[0mtqdm\u001b[0m\u001b[0;34m.\u001b[0m\u001b[0mtqdm\u001b[0m\u001b[0;34m(\u001b[0m\u001b[0mrange\u001b[0m\u001b[0;34m(\u001b[0m\u001b[0msource_num\u001b[0m\u001b[0;34m)\u001b[0m\u001b[0;34m)\u001b[0m\u001b[0;34m:\u001b[0m\u001b[0;31m#range(len(rsl))):\u001b[0m\u001b[0;34m\u001b[0m\u001b[0;34m\u001b[0m\u001b[0m\n\u001b[0;32m---> 11\u001b[0;31m         measurement = flux_py3.integratedflux(directory_local+'Abell_85_I_plane_freq'+(2-len(str((i+1))))*'0'+str(i+1)+'.fits'\\\n\u001b[0m\u001b[1;32m     12\u001b[0m                                           , reg_file, n, hdul=hdul_flat, test=True)\n\u001b[1;32m     13\u001b[0m         \u001b[0mflux_measurements_I\u001b[0m\u001b[0;34m[\u001b[0m\u001b[0mi\u001b[0m\u001b[0;34m,\u001b[0m\u001b[0mn\u001b[0m\u001b[0;34m]\u001b[0m \u001b[0;34m=\u001b[0m \u001b[0mmeasurement\u001b[0m\u001b[0;34m\u001b[0m\u001b[0;34m\u001b[0m\u001b[0m\n",
      "\u001b[0;32m/net/vdesk/data2/GoesaertW/Data_Analyis_Git/integratedflux_py3.py\u001b[0m in \u001b[0;36mintegratedflux\u001b[0;34m(fitsimage, ds9region, i, hdul, test)\u001b[0m\n\u001b[1;32m    148\u001b[0m         \u001b[0mclosehdul\u001b[0m \u001b[0;34m=\u001b[0m \u001b[0;32mFalse\u001b[0m\u001b[0;34m\u001b[0m\u001b[0;34m\u001b[0m\u001b[0m\n\u001b[1;32m    149\u001b[0m \u001b[0;34m\u001b[0m\u001b[0m\n\u001b[0;32m--> 150\u001b[0;31m     \u001b[0mhead\u001b[0m \u001b[0;34m=\u001b[0m \u001b[0mhdul\u001b[0m\u001b[0;34m.\u001b[0m\u001b[0mheader\u001b[0m\u001b[0;34m\u001b[0m\u001b[0;34m\u001b[0m\u001b[0m\n\u001b[0m\u001b[1;32m    151\u001b[0m     \u001b[0mdata\u001b[0m \u001b[0;34m=\u001b[0m \u001b[0mhdul\u001b[0m\u001b[0;34m.\u001b[0m\u001b[0mdata\u001b[0m\u001b[0;34m\u001b[0m\u001b[0;34m\u001b[0m\u001b[0m\n\u001b[1;32m    152\u001b[0m     \u001b[0mw\u001b[0m  \u001b[0;34m=\u001b[0m \u001b[0mwcs\u001b[0m\u001b[0;34m.\u001b[0m\u001b[0mWCS\u001b[0m\u001b[0;34m(\u001b[0m\u001b[0mhead\u001b[0m\u001b[0;34m)\u001b[0m\u001b[0;34m\u001b[0m\u001b[0;34m\u001b[0m\u001b[0m\n",
      "\u001b[0;31mTypeError\u001b[0m: 'PrimaryHDU' object is not subscriptable"
     ]
    }
   ],
   "source": [
    "start = time.time()\n",
    "source_num = 1#len(rsl)\n",
    "flux_measurements_I = np.zeros((12, source_num))\n",
    "flux_measurements_Q = np.zeros((12, source_num))\n",
    "flux_measurements_U = np.zeros((12, source_num))\n",
    "\n",
    "for i in range(12):\n",
    "    hdul_image = fits.open(directory_univ_I+'Abell_85_I_plane_freq'+(2-len(str((i+1))))*'0'+str(i+1)+'.fits')\n",
    "    hdul_flat = flux_py3.flatten(hdul_image)\n",
    "    print(hdul_flat.header)\n",
    "        \n",
    "    for n in tqdm.tqdm(range(source_num)):#range(len(rsl))):\n",
    "        measurement = flux_py3.integratedflux(directory_local+'Abell_85_I_plane_freq'+(2-len(str((i+1))))*'0'+str(i+1)+'.fits'\\\n",
    "                                          , reg_file, n, hdul=hdul_flat, test=True)\n",
    "        flux_measurements_I[i,n] = measurement\n",
    "    hdul_image.close()\n",
    "print('I is done.')\n",
    "\n",
    "for i in range(12):\n",
    "    hdul_image = fits.open(directory_univ_Q+'Abell_85_Q_plane_freq'+(2-len(str((i+1))))*'0'+str(i+1)+'.fits')\n",
    "    hdul_flat = flux_py3.flatten(hdul_image)\n",
    "    \n",
    "    for n in tqdm.tqdm(range(source_num)):#range(len(rsl))):\n",
    "        measurement = flux_py3.integratedflux(directory_local+'Abell_85_Q_plane_freq'+(2-len(str((i+1))))*'0'+str(i+1)+'.fits'\\\n",
    "                                          , reg_file, n, hdul=hdul_flat, test=True)\n",
    "        flux_measurements_Q[i,n] = measurement\n",
    "    hdul_image.close()\n",
    "print('Q is done.')\n",
    "\n",
    "for i in range(12):\n",
    "    hdul_image = fits.open(directory_univ_U+'Abell_85_U_plane_freq'+(2-len(str((i+1))))*'0'+str(i+1)+'.fits')\n",
    "    hdul_flat = flux_py3.flatten(hdul_image)\n",
    "\n",
    "    for n in tqdm.tqdm(range(source_num)):#range(len(rsl))):\n",
    "        measurement = flux_py3.integratedflux(directory_local+'Abell_85_U_plane_freq'+(2-len(str((i+1))))*'0'+str(i+1)+'.fits'\\\n",
    "                                          , reg_file, n, hdul=hdul_flat, test=True)\n",
    "        flux_measurements_U[i,n] = measurement\n",
    "    hdul_image.close()\n",
    "print('U is done.')\n",
    "\n",
    "end = time.time()\n",
    "print(\"The time of execution of above program is :\", end-start)\n",
    "\n",
    "#savedir =r'/net/vdesk/data2/GoesaertW/Meerkat_Data/Abell_85/Photometry_BDSF/'\n",
    "\n",
    "#np.save(savedir+'Abell85_BDSF_I.npy', flux_measurements_I)\n",
    "#np.save(savedir+'Abell85_BDSF_Q.npy', flux_measurements_Q)\n",
    "#np.save(savedir+'Abell85_BDSF_U.npy', flux_measurements_U)"
   ]
  },
  {
   "cell_type": "code",
   "execution_count": null,
   "metadata": {},
   "outputs": [],
   "source": []
  }
 ],
 "metadata": {
  "kernelspec": {
   "display_name": "Python 3",
   "language": "python",
   "name": "python3"
  },
  "language_info": {
   "codemirror_mode": {
    "name": "ipython",
    "version": 3
   },
   "file_extension": ".py",
   "mimetype": "text/x-python",
   "name": "python",
   "nbconvert_exporter": "python",
   "pygments_lexer": "ipython3",
   "version": "3.10.4"
  }
 },
 "nbformat": 4,
 "nbformat_minor": 4
}
