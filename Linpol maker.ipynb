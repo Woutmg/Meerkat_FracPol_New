{
 "cells": [
  {
   "cell_type": "code",
   "execution_count": 1,
   "metadata": {},
   "outputs": [],
   "source": [
    "import numpy as np\n",
    "\n",
    "from astropy.utils.data import get_pkg_data_filename\n",
    "from astropy.io import fits\n",
    "\n",
    "# This code takes the Q and U VLA data cubes and constructs a frequency averaged linear polarization intensity plane\n",
    "# This plane can then be used to check whether photometry is done with the right apertures."
   ]
  },
  {
   "cell_type": "markdown",
   "metadata": {},
   "source": [
    "# First section is made for VLA data:"
   ]
  },
  {
   "cell_type": "code",
   "execution_count": 8,
   "metadata": {
    "pycharm": {
     "name": "#%%\n"
    }
   },
   "outputs": [
    {
     "name": "stderr",
     "output_type": "stream",
     "text": [
      "<ipython-input-8-bdd3e9e6972a>:28: RuntimeWarning: Mean of empty slice\n",
      "  linpol_intens_freqmean = np.nanmean(linpol_intens_cube, axis=0)\n"
     ]
    }
   ],
   "source": [
    "# We initiate a cube to be filled\n",
    "linpol_intens_cube = np.zeros((90, 2736,2736))\n",
    "\n",
    "# File location is specified\n",
    "directory = r'C:\\Users\\woutg\\OneDrive - Universiteit Leiden\\Universiteit Leiden\\Bachelor 3\\BRP\\VLA_Data'\n",
    "directory_univ = r'/net/vdesk/data2/GoesaertW/VLA_Data/Abell_85_channels'\n",
    "\n",
    "fname_pt2 = r'-image.pbcor.smoothed.fits'\n",
    "\n",
    "for n in range(90):\n",
    "    fname_pt1 = r'G115.16-72.09_'+(4-len(str(n)))*'0'+str(n)\n",
    "\n",
    "    # The Q and U planes are opened one by one. These are corrected images by Erik.\n",
    "    Q_hdu = fits.open(get_pkg_data_filename(directory_univ+ '/stokes_q/' + fname_pt1+r'-Q'+fname_pt2))\n",
    "    Q_plane = Q_hdu[0].data.squeeze() # drops the size-1 axes\n",
    "\n",
    "    U_hdu = fits.open(get_pkg_data_filename(directory_univ+ '/stokes_u/' + fname_pt1+r'-U'+fname_pt2))\n",
    "    U_plane = U_hdu[0].data.squeeze() # drops the size-1 axes\n",
    "\n",
    "    # Each two planes together make a lin pol intensity plane and this plane is then put into the cube.\n",
    "    linpol_intens_plane = np.sqrt(Q_plane**2+U_plane**2)\n",
    "    linpol_intens_cube[n] = linpol_intens_plane\n",
    "\n",
    "    Q_hdu.close()\n",
    "    U_hdu.close()\n",
    "\n",
    "# The datacube is averaged over the frequency axis:\n",
    "linpol_intens_freqmean = np.nanmean(linpol_intens_cube, axis=0)\n",
    "\n",
    "# We save this as a fits file:\n",
    "Linpol_hdu = fits.PrimaryHDU(linpol_intens_freqmean)\n",
    "Linpol_hdu.writeto(directory_univ + r'\\Abell_85_VLA_Linpol_Freqmean.fits', overwrite=True)"
   ]
  },
  {
   "cell_type": "markdown",
   "metadata": {},
   "source": [
    "# Second section is made for MKT data:"
   ]
  },
  {
   "cell_type": "code",
   "execution_count": 17,
   "metadata": {},
   "outputs": [],
   "source": [
    "directory_univ_mkt = r'/net/vdesk/data2/GoesaertW/Meerkat_Data/Abell_85/'\n",
    "fname_mkt = r'Abell_85_Linpol_Farcsec_fcube_cor.fits'\n",
    "\n",
    "Linpol_hdu_mkt = fits.open(get_pkg_data_filename(directory_univ_mkt+fname_mkt))\n",
    "Linpol_cube_mkt = Linpol_hdu_mkt[0].data.squeeze() # drops the size-1 axes\n",
    "Linpol_hdu_mkt.close()\n",
    "\n",
    "# The datacube is averaged over the frequency axis:\n",
    "linpol_intens_freqmean_mkt = np.nanmean(Linpol_cube_mkt, axis=0)\n",
    "\n",
    "# We save this as a fits file:\n",
    "Linpol_hdu_mkt = fits.PrimaryHDU(linpol_intens_freqmean_mkt)\n",
    "\n",
    "Linpol_hdu_mkt.header['SIMPLE'] = Linpol_hdu_mkt.header['EXTEND']\n",
    "Linpol_hdu_mkt.header['BITPIX'] = -32\n",
    "Linpol_hdu_mkt.header['NAXIS'] = 3\n",
    "Linpol_hdu_mkt.header['NAXIS1'] = 3617\n",
    "Linpol_hdu_mkt.header['NAXIS2'] = 3617\n",
    "Linpol_hdu_mkt.header['NAXIS3'] = 1\n",
    "Linpol_hdu_mkt.header['CTYPE1'] = 'RA---SIN'\n",
    "Linpol_hdu_mkt.header['CDELT1'] = -3.317774E-04\n",
    "Linpol_hdu_mkt.header['CRPIX1'] = 1.809000E+03\n",
    "Linpol_hdu_mkt.header['CROTA1'] = 0.000000E+00\n",
    "Linpol_hdu_mkt.header['CRVAL1'] = 10.45282638889222\n",
    "Linpol_hdu_mkt.header['CTYPE2'] = 'DEC--SIN'\n",
    "Linpol_hdu_mkt.header['CDELT2'] = 3.317774E-04\n",
    "Linpol_hdu_mkt.header['CRPIX2'] = 1.809000E+03\n",
    "Linpol_hdu_mkt.header['CROTA2'] = 0.000000E+00\n",
    "Linpol_hdu_mkt.header['CRVAL2'] = -9.317925555555556\n",
    "Linpol_hdu_mkt.header['CTYPE3'] = 'FREQ'\n",
    "Linpol_hdu_mkt.header['CDELT3'] = 397488281.25\n",
    "Linpol_hdu_mkt.header['CRPIX3'] = 1.000000E+00\n",
    "Linpol_hdu_mkt.header['CROTA3'] = 0.000000E+00\n",
    "Linpol_hdu_mkt.header['CRVAL3'] = 1.283791015625E+09\n",
    "Linpol_hdu_mkt.header['OBSRA'] = 1.045291666667E+01\n",
    "Linpol_hdu_mkt.header['OBSDEC'] = -9.318000000000E+00\n",
    "Linpol_hdu_mkt.header['OBJECT'] = 'A85'\n",
    "Linpol_hdu_mkt.header['TELESCOP'] = 'MeerKAT'\n",
    "Linpol_hdu_mkt.header['INSTRUME'] = 'MeerKAT'\n",
    "Linpol_hdu_mkt.header['OBSERVER'] = 'Sharmila'\n",
    "Linpol_hdu_mkt.header['DATE-OBS'] = '2018-09-25'\n",
    "Linpol_hdu_mkt.header['DATE-MAP'] = '2020-08-15'\n",
    "Linpol_hdu_mkt.header['ORIGIN'] = 'Obit'\n",
    "Linpol_hdu_mkt.header['EPOCH'] = 2.000000E+03\n",
    "Linpol_hdu_mkt.header['EQUINOX'] = 2000.0\n",
    "Linpol_hdu_mkt.header['DATAMAX'] = 2.99980617E+00\n",
    "Linpol_hdu_mkt.header['DATAMIN'] = -2.99998784E+00\n",
    "Linpol_hdu_mkt.header['BUNIT'] = 'JY/BEAM'\n",
    "Linpol_hdu_mkt.header['ALTRPIX'] = 1.000000E+00\n",
    "Linpol_hdu_mkt.header['CLEANBMJ'] = 2.140992E-03\n",
    "Linpol_hdu_mkt.header['CLEANBMN'] = 1.972343E-03\n",
    "Linpol_hdu_mkt.header['CLEANBPA'] = -8.240263E+00\n",
    "Linpol_hdu_mkt.header['CLEANNIT'] = 251644  \n",
    "Linpol_hdu_mkt.header['ALPHA'] = 0.000000000000E+00\n",
    "Linpol_hdu_mkt.header['RFALPHA'] = 1.283791015625E+09\n",
    "Linpol_hdu_mkt.header['RADESYS'] = 'FK5'\n",
    "Linpol_hdu_mkt.header['BMAJ'] = 0.002140992\n",
    "Linpol_hdu_mkt.header['BMIN'] = 0.001972343\n",
    "Linpol_hdu_mkt.header['BPA'] = -8.240263000000001  \n",
    "\n",
    "Linpol_hdu_mkt.writeto(directory_univ_mkt+'Abell_85_Linpol_Freqmean.fits', overwrite=True)"
   ]
  },
  {
   "cell_type": "code",
   "execution_count": 5,
   "metadata": {},
   "outputs": [],
   "source": [
    "directory_univ_mkt = r'/net/vdesk/data2/GoesaertW/Meerkat_Data/Abell_85/'\n",
    "fname_mkt = r'Abell_85_Linpol_Farcsec_fcube_cor.fits'\n",
    "\n",
    "Linpol_hdu_mkt = fits.open(get_pkg_data_filename(directory_univ_mkt+fname_mkt))\n",
    "Linpol_cube_mkt = Linpol_hdu_mkt[0].data.squeeze() # drops the size-1 axes\n",
    "\n",
    "# We save this as a fits file:\n",
    "Linpol_hdu_mkt_new = fits.PrimaryHDU(Linpol_cube_mkt)\n",
    "Linpol_hdu_mkt_new.header['SIMPLE'] = Linpol_hdu_mkt_new.header['EXTEND']\n",
    "Linpol_hdu_mkt_new.header['BITPIX'] = -32\n",
    "Linpol_hdu_mkt_new.header['NAXIS'] = 3\n",
    "Linpol_hdu_mkt_new.header['NAXIS1'] = 3617\n",
    "Linpol_hdu_mkt_new.header['NAXIS2'] = 3617\n",
    "Linpol_hdu_mkt_new.header['NAXIS3'] = 12\n",
    "Linpol_hdu_mkt_new.header['CTYPE1'] = 'RA---SIN'\n",
    "Linpol_hdu_mkt_new.header['CDELT1'] = -3.317774E-04\n",
    "Linpol_hdu_mkt_new.header['CRPIX1'] = 1.809000E+03\n",
    "Linpol_hdu_mkt_new.header['CROTA1'] = 0.000000E+00\n",
    "Linpol_hdu_mkt_new.header['CRVAL1'] = 10.45282638889222\n",
    "Linpol_hdu_mkt_new.header['CTYPE2'] = 'DEC--SIN'\n",
    "Linpol_hdu_mkt_new.header['CDELT2'] = 3.317774E-04\n",
    "Linpol_hdu_mkt_new.header['CRPIX2'] = 1.809000E+03\n",
    "Linpol_hdu_mkt_new.header['CROTA2'] = 0.000000E+00\n",
    "Linpol_hdu_mkt_new.header['CRVAL2'] = -9.317925555555556\n",
    "Linpol_hdu_mkt_new.header['CTYPE3'] = 'FREQ'\n",
    "Linpol_hdu_mkt_new.header['CDELT3'] = 5.755108E+07\n",
    "Linpol_hdu_mkt_new.header['CRPIX3'] = 1.000000E+00\n",
    "Linpol_hdu_mkt_new.header['CROTA3'] = 0.000000E+00\n",
    "Linpol_hdu_mkt_new.header['CRVAL3'] = 1.283791015625E+09\n",
    "Linpol_hdu_mkt_new.header['OBSRA'] = 1.045291666667E+01\n",
    "Linpol_hdu_mkt_new.header['OBSDEC'] = -9.318000000000E+00\n",
    "Linpol_hdu_mkt_new.header['OBJECT'] = 'A85'\n",
    "Linpol_hdu_mkt_new.header['TELESCOP'] = 'MeerKAT'\n",
    "Linpol_hdu_mkt_new.header['INSTRUME'] = 'MeerKAT'\n",
    "Linpol_hdu_mkt_new.header['OBSERVER'] = 'Sharmila'\n",
    "Linpol_hdu_mkt_new.header['DATE-OBS'] = '2018-09-25'\n",
    "Linpol_hdu_mkt_new.header['DATE-MAP'] = '2020-08-15'\n",
    "Linpol_hdu_mkt_new.header['ORIGIN'] = 'Obit'\n",
    "Linpol_hdu_mkt_new.header['EPOCH'] = 2.000000E+03\n",
    "Linpol_hdu_mkt_new.header['EQUINOX'] = 2000.0\n",
    "Linpol_hdu_mkt_new.header['DATAMAX'] = 2.99980617E+00\n",
    "Linpol_hdu_mkt_new.header['DATAMIN'] = -2.99998784E+00\n",
    "Linpol_hdu_mkt_new.header['BUNIT'] = 'JY/BEAM'\n",
    "Linpol_hdu_mkt_new.header['ALTRPIX'] = 1.000000E+00\n",
    "Linpol_hdu_mkt_new.header['CLEANBMJ'] = 2.140992E-03\n",
    "Linpol_hdu_mkt_new.header['CLEANBMN'] = 1.972343E-03\n",
    "Linpol_hdu_mkt_new.header['CLEANBPA'] = -8.240263E+00\n",
    "Linpol_hdu_mkt_new.header['CLEANNIT'] = 251644  \n",
    "Linpol_hdu_mkt_new.header['ALPHA'] = 0.000000000000E+00\n",
    "Linpol_hdu_mkt_new.header['RFALPHA'] = 1.283791015625E+09\n",
    "Linpol_hdu_mkt_new.header['RADESYS'] = 'FK5'\n",
    "Linpol_hdu_mkt_new.header['BMAJ'] = 0.002140992\n",
    "Linpol_hdu_mkt_new.header['BMIN'] = 0.001972343\n",
    "Linpol_hdu_mkt_new.header['BPA'] = -8.240263000000001  \n",
    "\n",
    "Linpol_hdu_mkt_new.writeto(directory_univ_mkt+'Abell_85_Linpol.fits', overwrite=True)"
   ]
  },
  {
   "cell_type": "code",
   "execution_count": null,
   "metadata": {},
   "outputs": [],
   "source": []
  }
 ],
 "metadata": {
  "kernelspec": {
   "display_name": "Python 3",
   "language": "python",
   "name": "python3"
  },
  "language_info": {
   "codemirror_mode": {
    "name": "ipython",
    "version": 3
   },
   "file_extension": ".py",
   "mimetype": "text/x-python",
   "name": "python",
   "nbconvert_exporter": "python",
   "pygments_lexer": "ipython3",
   "version": "3.10.3"
  }
 },
 "nbformat": 4,
 "nbformat_minor": 1
}
