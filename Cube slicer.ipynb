{
 "cells": [
  {
   "cell_type": "code",
   "execution_count": 15,
   "metadata": {},
   "outputs": [],
   "source": [
    "import numpy as np\n",
    "\n",
    "from astropy.utils.data import get_pkg_data_filename\n",
    "from astropy.wcs import WCS\n",
    "from astropy import wcs\n",
    "from astropy.io import fits\n",
    "from astropy.stats import sigma_clipped_stats\n",
    "from astropy import units as u\n",
    "\n",
    "import os\n",
    "import sys\n",
    "from tqdm import tqdm\n",
    "from astropy.table import Table, join, vstack\n",
    "from astropy.nddata.utils import extract_array"
   ]
  },
  {
   "cell_type": "code",
   "execution_count": 43,
   "metadata": {},
   "outputs": [
    {
     "name": "stderr",
     "output_type": "stream",
     "text": [
      "100%|██████████| 12/12 [01:50<00:00,  9.22s/it]\n",
      "100%|██████████| 12/12 [02:02<00:00, 10.19s/it]\n",
      "100%|██████████| 12/12 [01:56<00:00,  9.71s/it]\n",
      "100%|██████████| 12/12 [01:52<00:00,  9.35s/it]\n"
     ]
    }
   ],
   "source": [
    "directory_univ = r'/net/vdesk/data2/GoesaertW/Meerkat_Data/Abell_85/'\n",
    "fnames = [r'Abell_85_aFix_pol_I_Farcsec_fcube_cor.fits', r'Abell_85_aFix_pol_Q_Farcsec_fcube_cor.fits', r'Abell_85_aFix_pol_U_Farcsec_fcube_cor.fits', r'Abell_85_aFix_pol_V_Farcsec_fcube_cor.fits']\n",
    "stokes_name = ['I', 'Q', 'U', 'V']\n",
    "\n",
    "for n, fname in enumerate(fnames):\n",
    "    hdu_cube = fits.open(get_pkg_data_filename(directory_univ+fname))\n",
    "    cube = hdu_cube[0].data.squeeze() # drops the size-1 axes\n",
    "    hdu_cube.close()\n",
    "    \n",
    "    for i in tqdm(range(12)):\n",
    "        plane = np.zeros((1,1,3617,3617))\n",
    "        plane[0,0,:,:] = cube[i]\n",
    "        hdu_plane = fits.PrimaryHDU(plane)\n",
    "        hdu_plane.header['SIMPLE'] = hdu_cube[0].header['EXTEND']\n",
    "        hdu_plane.header['BITPIX'] = -32\n",
    "        hdu_plane.header['NAXIS'] = 4\n",
    "        hdu_plane.header['NAXIS1'] = 3617\n",
    "        hdu_plane.header['NAXIS2'] = 3617\n",
    "        hdu_plane.header['NAXIS3'] = 1\n",
    "        hdu_plane.header['NAXIS4'] = 1\n",
    "        \n",
    "        hdu_plane.header['CTYPE1'] = 'RA---SIN'\n",
    "        hdu_plane.header['CDELT1'] = -3.317774E-04\n",
    "        hdu_plane.header['CRPIX1'] = 1.809000E+03\n",
    "        hdu_plane.header['CROTA1'] = 0.000000E+00\n",
    "        hdu_plane.header['CRVAL1'] = 10.45282638889222\n",
    "        hdu_plane.header['CUNIT1'] = 'deg'\n",
    "        \n",
    "        hdu_plane.header['CTYPE2'] = 'DEC--SIN'\n",
    "        hdu_plane.header['CDELT2'] = 3.317774E-04\n",
    "        hdu_plane.header['CRPIX2'] = 1.809000E+03\n",
    "        hdu_plane.header['CROTA2'] = 0.000000E+00\n",
    "        hdu_plane.header['CRVAL2'] = -9.317925555555556\n",
    "        hdu_plane.header['CUNIT2'] = 'deg'\n",
    "        \n",
    "        hdu_plane.header['CTYPE3'] = 'FREQ'\n",
    "        hdu_plane.header['CDELT3'] = hdu_cube[0].header['FREH00'+(2-len(str((i+1))))*'0' + str(i+1)]\\\n",
    "                                    -hdu_cube[0].header['FREL00'+(2-len(str((i+1))))*'0' + str(i+1)]\n",
    "        hdu_plane.header['CRPIX3'] = 1\n",
    "        hdu_plane.header['CROTA3'] = 0.0\n",
    "        hdu_plane.header['CRVAL3'] = hdu_cube[0].header['FREQ00'+(2-len(str((i+1))))*'0' + str(i+1)]\n",
    "\n",
    "        hdu_plane.header['CTYPE4'] = 'STOKES'\n",
    "        hdu_plane.header['CDELT4'] = 1.0\n",
    "        hdu_plane.header['CRPIX4'] = 1.0\n",
    "        hdu_plane.header['CROTA4'] = 0.0\n",
    "        hdu_plane.header['CRVAL4'] = n+1\n",
    "        \n",
    "        hdu_plane.header['OBSRA'] = 1.045291666667E+01\n",
    "        hdu_plane.header['OBSDEC'] = -9.318000000000E+00\n",
    "        hdu_plane.header['OBJECT'] = 'A85'\n",
    "        hdu_plane.header['TELESCOP'] = 'MeerKAT'\n",
    "        hdu_plane.header['INSTRUME'] = 'MeerKAT'\n",
    "        hdu_plane.header['OBSERVER'] = 'Sharmila'\n",
    "        hdu_plane.header['DATE-OBS'] = '2018-09-25'\n",
    "        hdu_plane.header['DATE-MAP'] = '2020-08-15'\n",
    "        hdu_plane.header['ORIGIN'] = 'Obit'\n",
    "        hdu_plane.header['EPOCH'] = 2.000000E+03\n",
    "        hdu_plane.header['EQUINOX'] = 2000.0\n",
    "        hdu_plane.header['DATAMAX'] = 2.99980617E+00\n",
    "        hdu_plane.header['DATAMIN'] = -2.99998784E+00\n",
    "        hdu_plane.header['BUNIT'] = 'JY/BEAM'\n",
    "        hdu_plane.header['ALTRPIX'] = 1.000000E+00\n",
    "        hdu_plane.header['CLEANBMJ'] = 2.140992E-03\n",
    "        hdu_plane.header['CLEANBMN'] = 1.972343E-03\n",
    "        hdu_plane.header['CLEANBPA'] = -8.240263E+00\n",
    "        hdu_plane.header['CLEANNIT'] = 251644  \n",
    "        hdu_plane.header['ALPHA'] = 0.000000000000E+00\n",
    "        hdu_plane.header['RFALPHA'] = 1.283791015625E+09\n",
    "        hdu_plane.header['RADESYS'] = 'FK5'\n",
    "        hdu_plane.header['BMAJ'] = 0.002140992\n",
    "        hdu_plane.header['BMIN'] = 0.001972343\n",
    "        hdu_plane.header['BPA'] = -8.240263000000001  \n",
    "\n",
    "        hdu_plane.writeto(directory_univ+stokes_name[n]+'_slices/Abell_85_'+stokes_name[n]+'_plane_freq'+(2-len(str((i+1))))*'0' + str(i+1)+'.fits', overwrite=True)"
   ]
  },
  {
   "cell_type": "code",
   "execution_count": 44,
   "metadata": {},
   "outputs": [],
   "source": [
    "import pyfits\n",
    "test = pyfits.getdata('/net/vdesk/data2/GoesaertW/Meerkat_Data/Abell_85/Q_slices/Abell_85_Q_plane_freq03.fits')\n",
    "test2 = pyfits.getdata('/net/voorrijn/data2/osinga/pipeline/cubes/19906/G080.99-50.90/stokes_q/G080.99-50.90_0000-Q-image.pbcor.smoothed.fits')"
   ]
  },
  {
   "cell_type": "code",
   "execution_count": 45,
   "metadata": {},
   "outputs": [
    {
     "name": "stdout",
     "output_type": "stream",
     "text": [
      "(1, 1, 2736, 2736)\n"
     ]
    },
    {
     "data": {
      "image/png": "[encoded data removed]",
      "text/plain": [
       "<Figure size 432x288 with 1 Axes>"
      ]
     },
     "metadata": {
      "needs_background": "light"
     },
     "output_type": "display_data"
    },
    {
     "name": "stdout",
     "output_type": "stream",
     "text": [
      "[[-3.76975186e-05]]\n",
      "(1, 1, 3617, 3617)\n",
      "(1, 1, 2736, 2736)\n"
     ]
    }
   ],
   "source": [
    "import matplotlib.pyplot as plt\n",
    "\n",
    "print(np.shape(test2))\n",
    "plt.imshow(plane[:,:,0,0], vmin=0,vmax=1e-4)\n",
    "plt.show()\n",
    "\n",
    "print(plane[:,:,0,0])\n",
    "print(np.shape(plane))\n",
    "print(np.shape(test2))"
   ]
  },
  {
   "cell_type": "code",
   "execution_count": null,
   "metadata": {},
   "outputs": [],
   "source": []
  }
 ],
 "metadata": {
  "kernelspec": {
   "display_name": "Python 3",
   "language": "python",
   "name": "python3"
  },
  "language_info": {
   "codemirror_mode": {
    "name": "ipython",
    "version": 3
   },
   "file_extension": ".py",
   "mimetype": "text/x-python",
   "name": "python",
   "nbconvert_exporter": "python",
   "pygments_lexer": "ipython3",
   "version": "3.10.4"
  }
 },
 "nbformat": 4,
 "nbformat_minor": 4
}
